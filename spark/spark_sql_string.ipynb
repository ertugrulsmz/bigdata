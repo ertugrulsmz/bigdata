{
 "cells": [
  {
   "cell_type": "code",
   "execution_count": 1,
   "metadata": {},
   "outputs": [],
   "source": [
    "import findspark\n",
    "findspark.init()\n",
    "from pyspark.sql import SparkSession\n",
    "spark = SparkSession.builder \\\n",
    ".master(\"local[4]\") \\\n",
    ".appName(\"StringOps\") \\\n",
    ".config(\"spark.executor.memory\",\"4g\") \\\n",
    ".config(\"spark.driver.memory\",\"2g\") \\\n",
    ".getOrCreate()"
   ]
  },
  {
   "cell_type": "code",
   "execution_count": 4,
   "metadata": {},
   "outputs": [
    {
     "name": "stdout",
     "output_type": "stream",
     "text": [
      "+------+---------+---+--------+-----------+-----------+-----------+--------------------+\n",
      "|sirano|     isim|yas|cinsiyet|     meslek|      sehir|aylik_gelir|            mal_mulk|\n",
      "+------+---------+---+--------+-----------+-----------+-----------+--------------------+\n",
      "|     1|    Cemal| 35|       E|       Isci|     Ankara|     3500.0|               araba|\n",
      "|     2|   ceyda | 42|       K|      Memur|    Kayseri|     4200.0|            araba|ev|\n",
      "|     3|    Timur| 30|    null|   Müzüsyen|Istanbul   |     9000.0|     araba|ev|yazlık|\n",
      "|     4|   Burcu | 29|       K|Pazarlamacı|     Ankara|     4200.0|               araba|\n",
      "|     5|  Yasemin| 23|       K|Pazarlamaci|      Bursa|     4800.0|               araba|\n",
      "|     6|      Ali| 33|       E|      Memur|     Ankara|     4250.0|                  ev|\n",
      "|     7|    Dilek| 29|       K|Pazarlamaci|   Istanbul|     7300.0|        araba|yazlık|\n",
      "|     8|    Murat| 31|       E|   Müzüsyen|   Istanbul|    12000.0|araba|ev|dükkan|y...|\n",
      "|     9|    Ahmet| 33|       E|     Doktor|     Ankara|   180000.0|     araba|ev|yazlık|\n",
      "|    10| Muhittin| 46|       E|     Berber|   Istanbul|    12000.0|     araba|ev|dükkan|\n",
      "|    11| Hicaziye| 47|       K| Tuhafiyeci|       null|        4.8|              dükkan|\n",
      "|    12|    Harun| 43|       E|    Tornacı|    Ankara |     4200.0|               araba|\n",
      "|    13|    hakkı| 33|       E|      memur|     Çorum |     3750.0|                  ev|\n",
      "|    14|  Gülizar| 37|       K|     Doktor|      İzmir|    14250.0|               araba|\n",
      "|    15|   Şehmuz| 41|       E|   Müzisyen|     Ankara|     8700.0|               araba|\n",
      "+------+---------+---+--------+-----------+-----------+-----------+--------------------+\n",
      "\n"
     ]
    }
   ],
   "source": [
    "df = spark.read \\\n",
    ".option(\"header\",\"True\") \\\n",
    ".option(\"inferSchema\",\"True\") \\\n",
    ".option(\"sep\",\",\") \\\n",
    ".csv(\"sources/retail_db/simple_dirty_data.csv\")\n",
    "\n",
    "df.show()\n"
   ]
  },
  {
   "cell_type": "code",
   "execution_count": 5,
   "metadata": {},
   "outputs": [],
   "source": [
    "from pyspark.sql.functions import *"
   ]
  },
  {
   "cell_type": "markdown",
   "metadata": {},
   "source": [
    "## 1 Concat ##"
   ]
  },
  {
   "cell_type": "code",
   "execution_count": 6,
   "metadata": {},
   "outputs": [
    {
     "name": "stdout",
     "output_type": "stream",
     "text": [
      "+-----------+-----------+------------------------+\n",
      "|meslek     |sehir      |meslek_sehir            |\n",
      "+-----------+-----------+------------------------+\n",
      "|Isci       |Ankara     |Isci - Ankara           |\n",
      "|Memur      |Kayseri    |Memur - Kayseri         |\n",
      "|Müzüsyen   |Istanbul   |Müzüsyen - Istanbul     |\n",
      "|Pazarlamacı|    Ankara |Pazarlamacı -     Ankara|\n",
      "|Pazarlamaci|Bursa      |Pazarlamaci - Bursa     |\n",
      "|Memur      |Ankara     |Memur - Ankara          |\n",
      "|Pazarlamaci|Istanbul   |Pazarlamaci - Istanbul  |\n",
      "|Müzüsyen   |Istanbul   |Müzüsyen - Istanbul     |\n",
      "|Doktor     |Ankara     |Doktor - Ankara         |\n",
      "|Berber     | Istanbul  |Berber -  Istanbul      |\n",
      "|Tuhafiyeci |null       |null                    |\n",
      "|Tornacı    | Ankara    |Tornacı -  Ankara       |\n",
      "|memur      |Çorum      |memur - Çorum           |\n",
      "|Doktor     |İzmir      |Doktor - İzmir          |\n",
      "|Müzisyen   | Ankara    |Müzisyen -  Ankara      |\n",
      "+-----------+-----------+------------------------+\n",
      "\n"
     ]
    }
   ],
   "source": [
    "\"\"\"\n",
    "    select'i kaldırırsan tümünü seçip yanına ekler.\n",
    "\"\"\"\n",
    "df.select(\"meslek\",\"sehir\") \\\n",
    ".withColumn(\"meslek_sehir\", concat(col(\"meslek\"),lit(\" - \"),col(\"sehir\"))) \\\n",
    ".show(truncate=False)"
   ]
  },
  {
   "cell_type": "markdown",
   "metadata": {},
   "source": [
    "## Number Format¶ ##\n"
   ]
  },
  {
   "cell_type": "code",
   "execution_count": 8,
   "metadata": {},
   "outputs": [
    {
     "name": "stdout",
     "output_type": "stream",
     "text": [
      "+-----------+------------------+\n",
      "|aylik_gelir|aylik_gelir_format|\n",
      "+-----------+------------------+\n",
      "|     3500.0|          3,500.00|\n",
      "|     4200.0|          4,200.00|\n",
      "|     9000.0|          9,000.00|\n",
      "|     4200.0|          4,200.00|\n",
      "|     4800.0|          4,800.00|\n",
      "|     4250.0|          4,250.00|\n",
      "|     7300.0|          7,300.00|\n",
      "|    12000.0|         12,000.00|\n",
      "|   180000.0|        180,000.00|\n",
      "|    12000.0|         12,000.00|\n",
      "|        4.8|              4.80|\n",
      "|     4200.0|          4,200.00|\n",
      "|     3750.0|          3,750.00|\n",
      "|    14250.0|         14,250.00|\n",
      "|     8700.0|          8,700.00|\n",
      "+-----------+------------------+\n",
      "\n"
     ]
    }
   ],
   "source": [
    "df.select(\"aylik_gelir\") \\\n",
    ".withColumn(\"aylik_gelir_format\", format_number(col(\"aylik_gelir\"), 2)) \\\n",
    ".show()"
   ]
  },
  {
   "cell_type": "code",
   "execution_count": 9,
   "metadata": {},
   "outputs": [
    {
     "name": "stdout",
     "output_type": "stream",
     "text": [
      "+-----------+---------+-----------+------------+------------+------------+\n",
      "|     meslek|     isim|      sehir|meslek_lower|isim_initcap|sehir_length|\n",
      "+-----------+---------+-----------+------------+------------+------------+\n",
      "|       Isci|    Cemal|     Ankara|        isci|       Cemal|           6|\n",
      "|      Memur|   ceyda |    Kayseri|       memur|      Ceyda |           7|\n",
      "|   Müzüsyen|    Timur|Istanbul   |    müzüsyen|       Timur|          11|\n",
      "|Pazarlamacı|   Burcu |     Ankara| pazarlamacı|      Burcu |          10|\n",
      "|Pazarlamaci|  Yasemin|      Bursa| pazarlamaci|     Yasemin|           5|\n",
      "|      Memur|      Ali|     Ankara|       memur|         Ali|           6|\n",
      "|Pazarlamaci|    Dilek|   Istanbul| pazarlamaci|       Dilek|           8|\n",
      "|   Müzüsyen|    Murat|   Istanbul|    müzüsyen|       Murat|           8|\n",
      "|     Doktor|    Ahmet|     Ankara|      doktor|       Ahmet|           6|\n",
      "|     Berber| Muhittin|   Istanbul|      berber|    Muhittin|           9|\n",
      "| Tuhafiyeci| Hicaziye|       null|  tuhafiyeci|    Hicaziye|        null|\n",
      "|    Tornacı|    Harun|    Ankara |     tornacı|       Harun|           8|\n",
      "|      memur|    hakkı|     Çorum |       memur|       Hakkı|           6|\n",
      "|     Doktor|  Gülizar|      İzmir|      doktor|     Gülizar|           5|\n",
      "|   Müzisyen|   Şehmuz|     Ankara|    müzisyen|      Şehmuz|           7|\n",
      "+-----------+---------+-----------+------------+------------+------------+\n",
      "\n"
     ]
    }
   ],
   "source": [
    "#init - lower - length\n",
    "df.select(\"meslek\",\"isim\",\"sehir\") \\\n",
    ".withColumn(\"meslek_lower\", lower(col(\"meslek\"))) \\\n",
    ".withColumn(\"isim_initcap\", initcap(col(\"isim\"))) \\\n",
    ".withColumn(\"sehir_length\", length(col(\"sehir\"))) \\\n",
    ".show()"
   ]
  },
  {
   "cell_type": "code",
   "execution_count": 21,
   "metadata": {},
   "outputs": [
    {
     "name": "stdout",
     "output_type": "stream",
     "text": [
      "+-----------+----------------------+-----------+---------------------------+------------+\n",
      "|sehir      |mal_mulk              |sehir_ist  |mal_mulk_split             |mal_mulk_ilk|\n",
      "+-----------+----------------------+-----------+---------------------------+------------+\n",
      "|Ankara     |araba                 |Ankara     |[araba]                    |araba       |\n",
      "|Kayseri    |araba|ev              |Kayseri    |[araba, ev]                |araba       |\n",
      "|Istanbul   |araba|ev|yazlık       |İSTanbul   |[araba, ev, yazlık]        |araba       |\n",
      "|    Ankara |araba                 |    Ankara |[araba]                    |araba       |\n",
      "|Bursa      |araba                 |Bursa      |[araba]                    |araba       |\n",
      "|Ankara     |ev                    |Ankara     |[ev]                       |ev          |\n",
      "|Istanbul   |araba|yazlık          |İSTanbul   |[araba, yazlık]            |araba       |\n",
      "|Istanbul   |araba|ev|dükkan|yazlık|İSTanbul   |[araba, ev, dükkan, yazlık]|araba       |\n",
      "|Ankara     |araba|ev|yazlık       |Ankara     |[araba, ev, yazlık]        |araba       |\n",
      "| Istanbul  |araba|ev|dükkan       | İSTanbul  |[araba, ev, dükkan]        |araba       |\n",
      "|null       |dükkan                |null       |[dükkan]                   |dükkan      |\n",
      "| Ankara    |araba                 | Ankara    |[araba]                    |araba       |\n",
      "|Çorum      |ev                    |Çorum      |[ev]                       |ev          |\n",
      "|İzmir      |araba                 |İzmir      |[araba]                    |araba       |\n",
      "| Ankara    |araba                 | Ankara    |[araba]                    |araba       |\n",
      "+-----------+----------------------+-----------+---------------------------+------------+\n",
      "\n"
     ]
    }
   ],
   "source": [
    "#selec'i kaldır.\n",
    "df.select(\"sehir\",\"mal_mulk\") \\\n",
    ".withColumn(\"sehir_ist\", regexp_replace(col(\"sehir\"), \"Ist\", \"İST\")) \\\n",
    ".withColumn(\"mal_mulk_split\", split(col(\"mal_mulk\"), \"\\\\|\")) \\\n",
    ".withColumn(\"mal_mulk_ilk\", col(\"mal_mulk_split\")[0]) \\\n",
    ".show(truncate=False)"
   ]
  },
  {
   "cell_type": "code",
   "execution_count": 17,
   "metadata": {},
   "outputs": [],
   "source": [
    "df2 = df \\\n",
    ".withColumn(\"sehir_ist\", regexp_replace(col(\"sehir\"), \"Ist\", \"İST\")) \\\n",
    ".withColumn(\"mal_mulk_split\", split(col(\"mal_mulk\"), \"\\\\|\")) \\\n",
    ".withColumn(\"mal_mulk_ilk\", col(\"mal_mulk_split\")[0])"
   ]
  },
  {
   "cell_type": "code",
   "execution_count": 18,
   "metadata": {
    "scrolled": true
   },
   "outputs": [
    {
     "name": "stdout",
     "output_type": "stream",
     "text": [
      "+------+---------+---+--------+-----------+-----------+-----------+--------------------+-----------+--------------------+------------+\n",
      "|sirano|     isim|yas|cinsiyet|     meslek|      sehir|aylik_gelir|            mal_mulk|  sehir_ist|      mal_mulk_split|mal_mulk_ilk|\n",
      "+------+---------+---+--------+-----------+-----------+-----------+--------------------+-----------+--------------------+------------+\n",
      "|     1|    Cemal| 35|       E|       Isci|     Ankara|     3500.0|               araba|     Ankara|             [araba]|       araba|\n",
      "|     2|   ceyda | 42|       K|      Memur|    Kayseri|     4200.0|            araba|ev|    Kayseri|         [araba, ev]|       araba|\n",
      "|     3|    Timur| 30|    null|   Müzüsyen|Istanbul   |     9000.0|     araba|ev|yazlık|İSTanbul   | [araba, ev, yazlık]|       araba|\n",
      "|     4|   Burcu | 29|       K|Pazarlamacı|     Ankara|     4200.0|               araba|     Ankara|             [araba]|       araba|\n",
      "|     5|  Yasemin| 23|       K|Pazarlamaci|      Bursa|     4800.0|               araba|      Bursa|             [araba]|       araba|\n",
      "|     6|      Ali| 33|       E|      Memur|     Ankara|     4250.0|                  ev|     Ankara|                [ev]|          ev|\n",
      "|     7|    Dilek| 29|       K|Pazarlamaci|   Istanbul|     7300.0|        araba|yazlık|   İSTanbul|     [araba, yazlık]|       araba|\n",
      "|     8|    Murat| 31|       E|   Müzüsyen|   Istanbul|    12000.0|araba|ev|dükkan|y...|   İSTanbul|[araba, ev, dükka...|       araba|\n",
      "|     9|    Ahmet| 33|       E|     Doktor|     Ankara|   180000.0|     araba|ev|yazlık|     Ankara| [araba, ev, yazlık]|       araba|\n",
      "|    10| Muhittin| 46|       E|     Berber|   Istanbul|    12000.0|     araba|ev|dükkan|   İSTanbul| [araba, ev, dükkan]|       araba|\n",
      "|    11| Hicaziye| 47|       K| Tuhafiyeci|       null|        4.8|              dükkan|       null|            [dükkan]|      dükkan|\n",
      "|    12|    Harun| 43|       E|    Tornacı|    Ankara |     4200.0|               araba|    Ankara |             [araba]|       araba|\n",
      "|    13|    hakkı| 33|       E|      memur|     Çorum |     3750.0|                  ev|     Çorum |                [ev]|          ev|\n",
      "|    14|  Gülizar| 37|       K|     Doktor|      İzmir|    14250.0|               araba|      İzmir|             [araba]|       araba|\n",
      "|    15|   Şehmuz| 41|       E|   Müzisyen|     Ankara|     8700.0|               araba|     Ankara|             [araba]|       araba|\n",
      "+------+---------+---+--------+-----------+-----------+-----------+--------------------+-----------+--------------------+------------+\n",
      "\n"
     ]
    }
   ],
   "source": [
    "df2.show()"
   ]
  },
  {
   "cell_type": "code",
   "execution_count": null,
   "metadata": {},
   "outputs": [],
   "source": []
  }
 ],
 "metadata": {
  "kernelspec": {
   "display_name": "Python [conda env:Anaconda3]",
   "language": "python",
   "name": "conda-env-Anaconda3-py"
  },
  "language_info": {
   "codemirror_mode": {
    "name": "ipython",
    "version": 3
   },
   "file_extension": ".py",
   "mimetype": "text/x-python",
   "name": "python",
   "nbconvert_exporter": "python",
   "pygments_lexer": "ipython3",
   "version": "3.7.6"
  }
 },
 "nbformat": 4,
 "nbformat_minor": 4
}
