{
 "cells": [
  {
   "cell_type": "code",
   "execution_count": 1,
   "metadata": {},
   "outputs": [],
   "source": [
    "import findspark\n",
    "findspark.init()"
   ]
  },
  {
   "cell_type": "code",
   "execution_count": 2,
   "metadata": {},
   "outputs": [],
   "source": [
    "#Spark context creation\n",
    "from pyspark.sql import SparkSession\n",
    "from pyspark.conf import SparkConf\n",
    "\n",
    "spark = SparkSession.builder.master(\"local[4]\").appName(\"word_count_rddd\").getOrCreate()\n",
    "sc = spark.sparkContext"
   ]
  },
  {
   "cell_type": "code",
   "execution_count": 4,
   "metadata": {},
   "outputs": [
    {
     "name": "stdout",
     "output_type": "stream",
     "text": [
      "count :  103\n"
     ]
    },
    {
     "data": {
      "text/plain": [
       "['Ömer Seyfettin - Forsa',\n",
       " '',\n",
       " 'Akdeniz’in, kahramanlık yuvası sonsuz ufuklarına bakan küçük tepe, minimini bir çiçek ormanı gibiydi. İnce uzun dallı badem ağaçlarının alaca gölgeleri sahile inen keçiyoluna düşüyor, ilkbaharın tatlı rüzgârıyla sarhoş olan martılar, çılgın bağrışlarıyla havayı çınlatıyordu. Badem bahçesinin yanı geniş bir bağdı. Beyaz taşlardan yapılmış kısa bir duvarın ötesindeki harabe vadiye kadar iniyordu. Bağın ortasındaki yıkık kulübenin kapısız girişinden bir ihtiyar çıktı. Saçı sakalı bembeyazdı. Kamburunu düzeltmek istiyormuş gibi gerindi. Elleri, ayakları titriyordu. Gök kadar boş, gök kadar sakin duran denize baktı, baktı.',\n",
       " '',\n",
       " '– Hayırdır inşallah! dedi.',\n",
       " '',\n",
       " 'Duvarın dibindeki taş yığınlarına çöktü. Başını ellerinin arasına aldı. Sırtında yırtık bir çuval vardı. Çıplak ayakları topraktan yoğrulmuş gibiydi. Zayıf kolları kirli tunç rengindeydi. Yine başını kaldırdı. Gökle denizin birleştiği dumandan çizgiye dikkatle baktı, Ama görünürde bir şey yoktu.',\n",
       " '',\n",
       " 'Bu, her gece uykusunda onu kurtarmak için birçok geminin pupa yelken geldiğini gören zavallı eski bir Türk forsasıydı. Tutsak olalı kırk yılı geçmişti. Otuz yaşında, dinç, levent, güçlü bir kahramanken Malta korsanlarının eline düşmüştü. Yirmi yıl onların kadırgalarında kürek çekti. Yirmi yıl iki zincirle iki ayağından rutubetli bir geminin dibine bağlanmış yaşadı. Yirmi yılın yazları, kışları, rüzgârları, fırtınaları, güneşleri onun granit vücudunu eritemedi. Zincirleri küflendi, çürüdü, kırıldı. Yirmi yıl içinde birkaç kez halkalarını, çivilerini değiştirdiler. Ama onun çelikten daha sert kaslı bacaklarına bir şey olmadı. Yalnız aptes alamadığı için. üzülüyordu. Hep güneşin doğduğu yanı sol ilerisine alır, gözlerini kıbleye çevirir, beş vakit namazı gizli işaretle yerine getirirdi.',\n",
       " '']"
      ]
     },
     "execution_count": 4,
     "metadata": {},
     "output_type": "execute_result"
    }
   ],
   "source": [
    "path = \"./omer_seyfettin_forsa_hikaye.txt\"\n",
    "story_rdd = sc.textFile(path)\n",
    "print(\"count : \",story_rdd.count())\n",
    "story_rdd.take(10)"
   ]
  },
  {
   "cell_type": "code",
   "execution_count": 5,
   "metadata": {},
   "outputs": [
    {
     "data": {
      "text/plain": [
       "[('Ömer', 1), ('Seyfettin', 1), ('-', 1), ('Forsa', 1), ('', 1)]"
      ]
     },
     "execution_count": 5,
     "metadata": {},
     "output_type": "execute_result"
    }
   ],
   "source": [
    "words = story_rdd.flatMap(lambda x : x.split(\" \"))\n",
    "words_tuple = words.map(lambda x : (x,1))\n",
    "words_tuple.take(5)"
   ]
  },
  {
   "cell_type": "code",
   "execution_count": 7,
   "metadata": {},
   "outputs": [
    {
     "data": {
      "text/plain": [
       "[('Ömer', 1), ('Seyfettin', 1), ('Forsa', 1), ('', 59), ('Akdeniz’in,', 1)]"
      ]
     },
     "execution_count": 7,
     "metadata": {},
     "output_type": "execute_result"
    }
   ],
   "source": [
    "words_w_counter = words_tuple.reduceByKey(lambda x,y : x+y)\n",
    "words_w_counter.take(5)"
   ]
  },
  {
   "cell_type": "code",
   "execution_count": 8,
   "metadata": {},
   "outputs": [],
   "source": [
    "sorted_counter = words_w_counter.map(lambda x : (x[1],x[0])) \\\n",
    "         .sortByKey(False)"
   ]
  },
  {
   "cell_type": "code",
   "execution_count": 10,
   "metadata": {},
   "outputs": [
    {
     "data": {
      "text/plain": [
       "[(31, '–'), (8, 'yıl'), (6, 'diye'), (5, 'onun'), (5, 'doğru')]"
      ]
     },
     "execution_count": 10,
     "metadata": {},
     "output_type": "execute_result"
    }
   ],
   "source": [
    "sorted_counter = sorted_counter.filter(lambda x : (x[1]!='' and x[1]!=' '))\n",
    "sorted_counter = sorted_counter.filter(lambda x : x[1]!='bir')\n",
    "sorted_counter.top(5)"
   ]
  },
  {
   "cell_type": "code",
   "execution_count": null,
   "metadata": {},
   "outputs": [],
   "source": []
  }
 ],
 "metadata": {
  "kernelspec": {
   "display_name": "Python [conda env:Anaconda3]",
   "language": "python",
   "name": "conda-env-Anaconda3-py"
  },
  "language_info": {
   "codemirror_mode": {
    "name": "ipython",
    "version": 3
   },
   "file_extension": ".py",
   "mimetype": "text/x-python",
   "name": "python",
   "nbconvert_exporter": "python",
   "pygments_lexer": "ipython3",
   "version": "3.7.6"
  }
 },
 "nbformat": 4,
 "nbformat_minor": 4
}
