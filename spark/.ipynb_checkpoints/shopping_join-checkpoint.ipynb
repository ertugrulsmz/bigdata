{
 "cells": [
  {
   "cell_type": "code",
   "execution_count": 1,
   "metadata": {},
   "outputs": [],
   "source": [
    "import findspark\n",
    "findspark.init()\n",
    "\n",
    "from pyspark import SparkConf, SparkContext\n",
    "conf = SparkConf().setAppName(\"RDD-Join\").setMaster(\"local[4]\")\n",
    "sc = SparkContext(conf=conf)"
   ]
  },
  {
   "cell_type": "code",
   "execution_count": 9,
   "metadata": {},
   "outputs": [],
   "source": [
    "order_items_rdd = sc.textFile(\"./sources/retail_db/order_items.csv\") \\\n",
    ".filter(lambda x: \"orderItemName\" not in x) "
   ]
  },
  {
   "cell_type": "code",
   "execution_count": 10,
   "metadata": {},
   "outputs": [
    {
     "data": {
      "text/plain": [
       "['1,1,957,1,299.98,299.98',\n",
       " '2,2,1073,1,199.99,199.99',\n",
       " '3,2,502,5,250.0,50.0',\n",
       " '4,2,403,1,129.99,129.99',\n",
       " '5,4,897,2,49.98,24.99']"
      ]
     },
     "execution_count": 10,
     "metadata": {},
     "output_type": "execute_result"
    }
   ],
   "source": [
    "order_items_rdd.take(5)"
   ]
  },
  {
   "cell_type": "code",
   "execution_count": 13,
   "metadata": {},
   "outputs": [
    {
     "data": {
      "text/plain": [
       "['1,2,Quest Q64 10 FT. x 10 FT. Slant Leg Instant U,,59.98,http://images.acmesports.sports/Quest+Q64+10+FT.+x+10+FT.+Slant+Leg+Instant+Up+Canopy',\n",
       " \"2,2,Under Armour Men's Highlight MC Football Clea,,129.99,http://images.acmesports.sports/Under+Armour+Men%27s+Highlight+MC+Football+Cleat\",\n",
       " \"3,2,Under Armour Men's Renegade D Mid Football Cl,,89.99,http://images.acmesports.sports/Under+Armour+Men%27s+Renegade+D+Mid+Football+Cleat\",\n",
       " \"4,2,Under Armour Men's Renegade D Mid Football Cl,,89.99,http://images.acmesports.sports/Under+Armour+Men%27s+Renegade+D+Mid+Football+Cleat\",\n",
       " '5,2,Riddell Youth Revolution Speed Custom Footbal,,199.99,http://images.acmesports.sports/Riddell+Youth+Revolution+Speed+Custom+Football+Helmet']"
      ]
     },
     "execution_count": 13,
     "metadata": {},
     "output_type": "execute_result"
    }
   ],
   "source": [
    "# products reading\n",
    "products_rdd = sc.textFile(\"./sources/retail_db/products.csv\") \\\n",
    ".filter(lambda x: \"productCategoryId\" not in x)\n",
    "products_rdd.take(5)"
   ]
  },
  {
   "cell_type": "markdown",
   "metadata": {},
   "source": [
    "#(anahtar, değer) (anahtar, değer)\n",
    "## PAIR RDD TRANSFORMATION ##"
   ]
  },
  {
   "cell_type": "code",
   "execution_count": 15,
   "metadata": {},
   "outputs": [],
   "source": [
    "def make_order_items_pair_rdd(line):\n",
    "    orderItemName = line.split(\",\")[0]\n",
    "    orderItemOrderId = line.split(\",\")[1]\n",
    "    orderItemProductId = line.split(\",\")[2]\n",
    "    orderItemQuantity = line.split(\",\")[3]\n",
    "    orderItemSubTotal = line.split(\",\")[4]\n",
    "    orderItemProductPrice  = line.split(\",\")[5]\n",
    "    \n",
    "    return (orderItemProductId,(orderItemName,orderItemOrderId,orderItemQuantity,orderItemSubTotal,orderItemProductPrice))"
   ]
  },
  {
   "cell_type": "code",
   "execution_count": 17,
   "metadata": {},
   "outputs": [
    {
     "data": {
      "text/plain": [
       "[('957', ('1', '1', '1', '299.98', '299.98')),\n",
       " ('1073', ('2', '2', '1', '199.99', '199.99')),\n",
       " ('502', ('3', '2', '5', '250.0', '50.0')),\n",
       " ('403', ('4', '2', '1', '129.99', '129.99')),\n",
       " ('897', ('5', '4', '2', '49.98', '24.99'))]"
      ]
     },
     "execution_count": 17,
     "metadata": {},
     "output_type": "execute_result"
    }
   ],
   "source": [
    "order_items_pair_rdd = order_items_rdd.map(make_order_items_pair_rdd)\n",
    "order_items_pair_rdd.take(5)"
   ]
  },
  {
   "cell_type": "code",
   "execution_count": 18,
   "metadata": {},
   "outputs": [],
   "source": [
    "def make_products_pair_rdd(line):\n",
    "    productId = line.split(\",\")[0]\n",
    "    productCategoryId = line.split(\",\")[1]\n",
    "    productName = line.split(\",\")[2]\n",
    "    productDescription = line.split(\",\")[3]\n",
    "    productPrice = line.split(\",\")[4]\n",
    "    productImage  = line.split(\",\")[5]\n",
    "    \n",
    "    return (productId,(productCategoryId,productName,productDescription,productPrice,productImage))"
   ]
  },
  {
   "cell_type": "code",
   "execution_count": 20,
   "metadata": {},
   "outputs": [
    {
     "data": {
      "text/plain": [
       "[('1',\n",
       "  ('2',\n",
       "   'Quest Q64 10 FT. x 10 FT. Slant Leg Instant U',\n",
       "   '',\n",
       "   '59.98',\n",
       "   'http://images.acmesports.sports/Quest+Q64+10+FT.+x+10+FT.+Slant+Leg+Instant+Up+Canopy')),\n",
       " ('2',\n",
       "  ('2',\n",
       "   \"Under Armour Men's Highlight MC Football Clea\",\n",
       "   '',\n",
       "   '129.99',\n",
       "   'http://images.acmesports.sports/Under+Armour+Men%27s+Highlight+MC+Football+Cleat')),\n",
       " ('3',\n",
       "  ('2',\n",
       "   \"Under Armour Men's Renegade D Mid Football Cl\",\n",
       "   '',\n",
       "   '89.99',\n",
       "   'http://images.acmesports.sports/Under+Armour+Men%27s+Renegade+D+Mid+Football+Cleat')),\n",
       " ('4',\n",
       "  ('2',\n",
       "   \"Under Armour Men's Renegade D Mid Football Cl\",\n",
       "   '',\n",
       "   '89.99',\n",
       "   'http://images.acmesports.sports/Under+Armour+Men%27s+Renegade+D+Mid+Football+Cleat')),\n",
       " ('5',\n",
       "  ('2',\n",
       "   'Riddell Youth Revolution Speed Custom Footbal',\n",
       "   '',\n",
       "   '199.99',\n",
       "   'http://images.acmesports.sports/Riddell+Youth+Revolution+Speed+Custom+Football+Helmet'))]"
      ]
     },
     "execution_count": 20,
     "metadata": {},
     "output_type": "execute_result"
    }
   ],
   "source": [
    "products_pair_rdd = products_rdd.map(make_products_pair_rdd)\n",
    "products_pair_rdd.take(5)"
   ]
  },
  {
   "cell_type": "markdown",
   "metadata": {},
   "source": [
    "## JOIN STAGE ¶ ##\n"
   ]
  },
  {
   "cell_type": "code",
   "execution_count": 21,
   "metadata": {},
   "outputs": [
    {
     "data": {
      "text/plain": [
       "[('957',\n",
       "  (('1', '1', '1', '299.98', '299.98'),\n",
       "   ('43',\n",
       "    \"Diamondback Women's Serene Classic Comfort Bi\",\n",
       "    '',\n",
       "    '299.98',\n",
       "    'http://images.acmesports.sports/Diamondback+Women%27s+Serene+Classic+Comfort+Bike+2014'))),\n",
       " ('957',\n",
       "  (('9', '5', '1', '299.98', '299.98'),\n",
       "   ('43',\n",
       "    \"Diamondback Women's Serene Classic Comfort Bi\",\n",
       "    '',\n",
       "    '299.98',\n",
       "    'http://images.acmesports.sports/Diamondback+Women%27s+Serene+Classic+Comfort+Bike+2014'))),\n",
       " ('957',\n",
       "  (('12', '5', '1', '299.98', '299.98'),\n",
       "   ('43',\n",
       "    \"Diamondback Women's Serene Classic Comfort Bi\",\n",
       "    '',\n",
       "    '299.98',\n",
       "    'http://images.acmesports.sports/Diamondback+Women%27s+Serene+Classic+Comfort+Bike+2014'))),\n",
       " ('957',\n",
       "  (('15', '7', '1', '299.98', '299.98'),\n",
       "   ('43',\n",
       "    \"Diamondback Women's Serene Classic Comfort Bi\",\n",
       "    '',\n",
       "    '299.98',\n",
       "    'http://images.acmesports.sports/Diamondback+Women%27s+Serene+Classic+Comfort+Bike+2014'))),\n",
       " ('957',\n",
       "  (('34', '12', '1', '299.98', '299.98'),\n",
       "   ('43',\n",
       "    \"Diamondback Women's Serene Classic Comfort Bi\",\n",
       "    '',\n",
       "    '299.98',\n",
       "    'http://images.acmesports.sports/Diamondback+Women%27s+Serene+Classic+Comfort+Bike+2014')))]"
      ]
     },
     "execution_count": 21,
     "metadata": {},
     "output_type": "execute_result"
    }
   ],
   "source": [
    "order_items_product_pair_rdd =  order_items_pair_rdd.join(products_pair_rdd)\n",
    "order_items_product_pair_rdd.take(5)"
   ]
  },
  {
   "cell_type": "code",
   "execution_count": 22,
   "metadata": {},
   "outputs": [
    {
     "data": {
      "text/plain": [
       "172198"
      ]
     },
     "execution_count": 22,
     "metadata": {},
     "output_type": "execute_result"
    }
   ],
   "source": [
    "order_items_pair_rdd.count()"
   ]
  },
  {
   "cell_type": "code",
   "execution_count": 23,
   "metadata": {},
   "outputs": [
    {
     "data": {
      "text/plain": [
       "1345"
      ]
     },
     "execution_count": 23,
     "metadata": {},
     "output_type": "execute_result"
    }
   ],
   "source": [
    "products_pair_rdd.count()"
   ]
  },
  {
   "cell_type": "code",
   "execution_count": 24,
   "metadata": {},
   "outputs": [
    {
     "data": {
      "text/plain": [
       "172198"
      ]
     },
     "execution_count": 24,
     "metadata": {},
     "output_type": "execute_result"
    }
   ],
   "source": [
    "order_items_product_pair_rdd.count()"
   ]
  },
  {
   "cell_type": "code",
   "execution_count": null,
   "metadata": {},
   "outputs": [],
   "source": []
  }
 ],
 "metadata": {
  "kernelspec": {
   "display_name": "Python [conda env:Anaconda3]",
   "language": "python",
   "name": "conda-env-Anaconda3-py"
  },
  "language_info": {
   "codemirror_mode": {
    "name": "ipython",
    "version": 3
   },
   "file_extension": ".py",
   "mimetype": "text/x-python",
   "name": "python",
   "nbconvert_exporter": "python",
   "pygments_lexer": "ipython3",
   "version": "3.7.6"
  }
 },
 "nbformat": 4,
 "nbformat_minor": 4
}
